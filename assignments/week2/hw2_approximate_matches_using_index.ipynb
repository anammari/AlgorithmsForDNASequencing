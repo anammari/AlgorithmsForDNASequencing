{
 "cells": [
  {
   "cell_type": "code",
   "execution_count": 7,
   "metadata": {},
   "outputs": [
    {
     "name": "stdout",
     "output_type": "stream",
     "text": [
      "The autoreload extension is already loaded. To reload it, use:\n",
      "  %reload_ext autoreload\n"
     ]
    }
   ],
   "source": [
    "# Implement approximate matches using index by editing the approximate_match function\n",
    "%load_ext autoreload\n",
    "%autoreload 2\n",
    "from kmer_index import readGenome, approximate_match_using_index"
   ]
  },
  {
   "cell_type": "markdown",
   "metadata": {},
   "source": [
    "## Programming Homework 2"
   ]
  },
  {
   "cell_type": "code",
   "execution_count": 8,
   "metadata": {},
   "outputs": [
    {
     "name": "stdout",
     "output_type": "stream",
     "text": [
      "[84641, 160162, 635931, 747359, 273669, 147558, 364263, 681737, 717706, 465647, 429299, 657496, 160729, 56922, 724927, 191452, 262042, 551134, 421221]\n",
      "19\n",
      "90\n"
     ]
    }
   ],
   "source": [
    "genome = readGenome(\"chr1.GRCh38.excerpt.fasta\")\n",
    "p = 'GGCGCGGTGGCTCACGCCTGTAAT'\n",
    "occurrences, total_hits = approximate_match_using_index(p, genome, 2)\n",
    "print(occurrences)\n",
    "print(len(occurrences))\n",
    "print(total_hits)"
   ]
  },
  {
   "cell_type": "code",
   "execution_count": 5,
   "metadata": {
    "collapsed": true
   },
   "outputs": [],
   "source": [
    "#validation using naive_2mm\n",
    "def naive_2mm(p, t):\n",
    "    occurrences = []\n",
    "    for i in range(len(t) - len(p) + 1):\n",
    "        match = True\n",
    "        mismatches = 0\n",
    "        for j in range(len(p)):\n",
    "            if t[i+j] != p[j] and mismatches == 2:\n",
    "                match = False\n",
    "                break\n",
    "            elif t[i+j] != p[j]: \n",
    "                mismatches += 1\n",
    "        if match:\n",
    "            occurrences.append(i)\n",
    "    return occurrences"
   ]
  },
  {
   "cell_type": "code",
   "execution_count": 6,
   "metadata": {},
   "outputs": [
    {
     "name": "stdout",
     "output_type": "stream",
     "text": [
      "[56922, 84641, 147558, 160162, 160729, 191452, 262042, 273669, 364263, 421221, 429299, 465647, 551134, 635931, 657496, 681737, 717706, 724927, 747359]\n",
      "19\n"
     ]
    }
   ],
   "source": [
    "occurrences = naive_2mm(p, genome)\n",
    "print(occurrences)\n",
    "print(len(occurrences))"
   ]
  },
  {
   "cell_type": "code",
   "execution_count": null,
   "metadata": {
    "collapsed": true
   },
   "outputs": [],
   "source": []
  }
 ],
 "metadata": {
  "kernelspec": {
   "display_name": "Python 2",
   "language": "python",
   "name": "python2"
  },
  "language_info": {
   "codemirror_mode": {
    "name": "ipython",
    "version": 2
   },
   "file_extension": ".py",
   "mimetype": "text/x-python",
   "name": "python",
   "nbconvert_exporter": "python",
   "pygments_lexer": "ipython2",
   "version": "2.7.13"
  }
 },
 "nbformat": 4,
 "nbformat_minor": 1
}
